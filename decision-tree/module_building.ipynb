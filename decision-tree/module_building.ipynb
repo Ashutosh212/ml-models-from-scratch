{
 "cells": [
  {
   "cell_type": "code",
   "execution_count": 2,
   "metadata": {},
   "outputs": [],
   "source": [
    "import numpy as np\n",
    "import pandas as pd"
   ]
  },
  {
   "cell_type": "code",
   "execution_count": 21,
   "metadata": {},
   "outputs": [],
   "source": [
    "import matplotlib.pyplot as plt\n",
    "\n",
    "data = pd.DataFrame({\n",
    "    'size': [10, 15, 18, 25, 30, 32, 35, 40, 22, 35, 23],\n",
    "    'color': ['Red', 'Red', 'Blue', 'Blue', 'Red', 'Blue', 'Red', 'Blue', 'Green', 'Green', 'Red'],\n",
    "    'Target':   [0, 0, 1, 1, 0, 1, 1, 1, 0, 0, 1]\n",
    "})\n",
    "df = data"
   ]
  },
  {
   "cell_type": "code",
   "execution_count": 22,
   "metadata": {},
   "outputs": [
    {
     "data": {
      "image/png": "[encoded data removed]",
      "text/plain": [
       "<Figure size 600x500 with 1 Axes>"
      ]
     },
     "metadata": {},
     "output_type": "display_data"
    }
   ],
   "source": [
    "plt.figure(figsize=(6, 5))\n",
    "plt.scatter(df['size'], df['color'], c=df['Target'], cmap='bwr', edgecolor='k', s=40)\n",
    "plt.xlabel(\"Feature1\")\n",
    "plt.ylabel(\"Feature2\")\n",
    "plt.title(\"Synthetic Binary Classification Dataset\")\n",
    "plt.grid(True)\n",
    "plt.show()"
   ]
  },
  {
   "cell_type": "code",
   "execution_count": 23,
   "metadata": {},
   "outputs": [
    {
     "data": {
      "text/plain": [
       "Index(['size', 'color', 'Target'], dtype='object')"
      ]
     },
     "execution_count": 23,
     "metadata": {},
     "output_type": "execute_result"
    }
   ],
   "source": [
    "df.columns"
   ]
  },
  {
   "cell_type": "code",
   "execution_count": 24,
   "metadata": {},
   "outputs": [
    {
     "data": {
      "text/plain": [
       "11"
      ]
     },
     "execution_count": 24,
     "metadata": {},
     "output_type": "execute_result"
    }
   ],
   "source": [
    "len(df)"
   ]
  },
  {
   "cell_type": "code",
   "execution_count": 44,
   "metadata": {},
   "outputs": [
    {
     "data": {
      "text/plain": [
       "True"
      ]
     },
     "execution_count": 44,
     "metadata": {},
     "output_type": "execute_result"
    }
   ],
   "source": [
    "df['size'][0].dtype == 'int64'"
   ]
  },
  {
   "cell_type": "code",
   "execution_count": 49,
   "metadata": {},
   "outputs": [
    {
     "data": {
      "text/plain": [
       "list"
      ]
     },
     "execution_count": 49,
     "metadata": {},
     "output_type": "execute_result"
    }
   ],
   "source": [
    "type(sorted(df['size']))"
   ]
  },
  {
   "cell_type": "code",
   "execution_count": 57,
   "metadata": {},
   "outputs": [
    {
     "data": {
      "text/plain": [
       "4"
      ]
     },
     "execution_count": 57,
     "metadata": {},
     "output_type": "execute_result"
    }
   ],
   "source": [
    "len(df[(df['color'] == 'Blue') & (df['Target'] == 1)])\n"
   ]
  },
  {
   "cell_type": "code",
   "execution_count": 68,
   "metadata": {},
   "outputs": [],
   "source": [
    "import numpy as np\n",
    "\n",
    "def cross_entropy_catg(df, column, value, included=True):\n",
    "    if included:\n",
    "        post_cnt = len(df[(df[column] == value) & (df['Target'] == 1)])\n",
    "        negt_cnt = len(df[(df[column] == value) & (df['Target'] == 0)])\n",
    "    else:\n",
    "        post_cnt = len(df[df['Target'] == 1]) - len(df[(df[column] == value) & (df['Target'] == 1)])\n",
    "        negt_cnt = len(df[df['Target'] == 0]) - len(df[(df[column] == value) & (df['Target'] == 0)])\n",
    "    \n",
    "    total = post_cnt + negt_cnt\n",
    "\n",
    "    if total == 0:\n",
    "        return 0\n",
    "\n",
    "    entropy = 0\n",
    "    if post_cnt > 0:\n",
    "        entropy -= (post_cnt / total) * np.log2(post_cnt / total)\n",
    "    if negt_cnt > 0:\n",
    "        entropy -= (negt_cnt / total) * np.log2(negt_cnt / total)\n",
    "\n",
    "    return entropy"
   ]
  },
  {
   "cell_type": "code",
   "execution_count": 69,
   "metadata": {},
   "outputs": [],
   "source": [
    "import numpy as np\n",
    "\n",
    "def cross_entropy_num(df, column, value, included=True):\n",
    "    if included:\n",
    "        subset = df[df[column] < value]\n",
    "    else:\n",
    "        subset = df[df[column] >= value]\n",
    "\n",
    "    post_cnt = len(subset[subset['Target'] == 1])\n",
    "    negt_cnt = len(subset[subset['Target'] == 0])\n",
    "    total = post_cnt + negt_cnt\n",
    "\n",
    "    if total == 0:\n",
    "        return 0  # no samples to evaluate\n",
    "\n",
    "    entropy = 0\n",
    "    if post_cnt > 0:\n",
    "        entropy -= (post_cnt / total) * np.log2(post_cnt / total)\n",
    "    if negt_cnt > 0:\n",
    "        entropy -= (negt_cnt / total) * np.log2(negt_cnt / total)\n",
    "\n",
    "    return entropy\n"
   ]
  },
  {
   "cell_type": "code",
   "execution_count": 70,
   "metadata": {},
   "outputs": [
    {
     "data": {
      "text/plain": [
       "np.float64(0.9709505944546686)"
      ]
     },
     "execution_count": 70,
     "metadata": {},
     "output_type": "execute_result"
    }
   ],
   "source": [
    "cross_entropy_catg(df, 'color', 'Red', True)"
   ]
  },
  {
   "cell_type": "code",
   "execution_count": 73,
   "metadata": {},
   "outputs": [
    {
     "data": {
      "text/plain": [
       "np.float64(0.9182958340544896)"
      ]
     },
     "execution_count": 73,
     "metadata": {},
     "output_type": "execute_result"
    }
   ],
   "source": [
    "cross_entropy_num(df, 'size', 20, True)"
   ]
  },
  {
   "cell_type": "code",
   "execution_count": null,
   "metadata": {},
   "outputs": [],
   "source": [
    "def best_threshold_to_split(df, column):\n",
    "    if type(df[column][0]) == str:\n",
    "        split_node = list(df[column].unique())\n",
    "    else:\n",
    "        sorted_attr = sorted(df[column])\n",
    "        split_node = []\n",
    "        for i in range(len(df)-1):\n",
    "            split_node.append((sorted_attr[i] + sorted_attr[i+1])/2)\n",
    "    # print(split_node)\n",
    "\n",
    "    information_gain = []\n",
    "\n",
    "    for criteria in split_node:\n",
    "        \"make a subsest of the dataframe for particular criteria of the column\"\n"
   ]
  },
  {
   "cell_type": "code",
   "execution_count": 52,
   "metadata": {},
   "outputs": [],
   "source": [
    "columns = df.columns"
   ]
  },
  {
   "cell_type": "code",
   "execution_count": 53,
   "metadata": {},
   "outputs": [
    {
     "name": "stdout",
     "output_type": "stream",
     "text": [
      "[12.5, 16.5, 20.0, 22.5, 24.0, 27.5, 31.0, 33.5, 35.0, 37.5]\n",
      "['Red', 'Blue', 'Green']\n",
      "[0.0, 0.0, 0.0, 0.0, 0.5, 1.0, 1.0, 1.0, 1.0, 1.0]\n"
     ]
    }
   ],
   "source": [
    "for column in columns:\n",
    "    best_threshold_to_split(df, column)"
   ]
  },
  {
   "cell_type": "code",
   "execution_count": null,
   "metadata": {},
   "outputs": [],
   "source": []
  },
  {
   "cell_type": "code",
   "execution_count": null,
   "metadata": {},
   "outputs": [],
   "source": []
  },
  {
   "cell_type": "code",
   "execution_count": null,
   "metadata": {},
   "outputs": [],
   "source": []
  }
 ],
 "metadata": {
  "kernelspec": {
   "display_name": "sam_finetune",
   "language": "python",
   "name": "python3"
  },
  "language_info": {
   "codemirror_mode": {
    "name": "ipython",
    "version": 3
   },
   "file_extension": ".py",
   "mimetype": "text/x-python",
   "name": "python",
   "nbconvert_exporter": "python",
   "pygments_lexer": "ipython3",
   "version": "3.13.2"
  }
 },
 "nbformat": 4,
 "nbformat_minor": 2
}
