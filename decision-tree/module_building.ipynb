{
 "cells": [
  {
   "cell_type": "code",
   "execution_count": 507,
   "metadata": {},
   "outputs": [],
   "source": [
    "import numpy as np\n",
    "import pandas as pd"
   ]
  },
  {
   "cell_type": "code",
   "execution_count": 508,
   "metadata": {},
   "outputs": [],
   "source": [
    "import matplotlib.pyplot as plt\n",
    "\n",
    "data = pd.DataFrame({\n",
    "    'size': [10, 15, 18, 25, 30, 32, 35, 40, 22, 35, 23],\n",
    "    # 'color': ['Red', 'Red', 'Blue', 'Blue', 'Red', 'Blue', 'Red', 'Blue', 'Green', 'Green', 'Red'],\n",
    "    'color': [0, 0, 1, 1, 0, 1, 0, 1, 2, 2, 0],\n",
    "    'Target':   [0, 0, 1, 1, 0, 1, 1, 1, 0, 0, 1]\n",
    "})\n",
    "df = data"
   ]
  },
  {
   "cell_type": "code",
   "execution_count": 509,
   "metadata": {},
   "outputs": [
    {
     "data": {
      "image/png": "[encoded data removed]",
      "text/plain": [
       "<Figure size 600x500 with 1 Axes>"
      ]
     },
     "metadata": {},
     "output_type": "display_data"
    }
   ],
   "source": [
    "plt.figure(figsize=(6, 5))\n",
    "plt.scatter(df['size'], df['color'], c=df['Target'], cmap='bwr', edgecolor='k', s=40)\n",
    "plt.xlabel(\"Feature1\")\n",
    "plt.ylabel(\"Feature2\")\n",
    "plt.title(\"Synthetic Binary Classification Dataset\")\n",
    "plt.grid(True)\n",
    "plt.show()"
   ]
  },
  {
   "cell_type": "code",
   "execution_count": 510,
   "metadata": {},
   "outputs": [
    {
     "data": {
      "text/plain": [
       "Index(['size', 'color', 'Target'], dtype='object')"
      ]
     },
     "execution_count": 510,
     "metadata": {},
     "output_type": "execute_result"
    }
   ],
   "source": [
    "df.columns"
   ]
  },
  {
   "cell_type": "code",
   "execution_count": 511,
   "metadata": {},
   "outputs": [
    {
     "data": {
      "text/plain": [
       "11"
      ]
     },
     "execution_count": 511,
     "metadata": {},
     "output_type": "execute_result"
    }
   ],
   "source": [
    "len(df)"
   ]
  },
  {
   "cell_type": "code",
   "execution_count": 512,
   "metadata": {},
   "outputs": [
    {
     "data": {
      "text/plain": [
       "True"
      ]
     },
     "execution_count": 512,
     "metadata": {},
     "output_type": "execute_result"
    }
   ],
   "source": [
    "df['size'][0].dtype == 'int64'"
   ]
  },
  {
   "cell_type": "code",
   "execution_count": 513,
   "metadata": {},
   "outputs": [
    {
     "data": {
      "text/plain": [
       "list"
      ]
     },
     "execution_count": 513,
     "metadata": {},
     "output_type": "execute_result"
    }
   ],
   "source": [
    "type(sorted(df['size']))"
   ]
  },
  {
   "cell_type": "code",
   "execution_count": 514,
   "metadata": {},
   "outputs": [
    {
     "data": {
      "text/plain": [
       "0"
      ]
     },
     "execution_count": 514,
     "metadata": {},
     "output_type": "execute_result"
    }
   ],
   "source": [
    "len(df[(df['color'] == 'Blue') & (df['Target'] == 1)])\n"
   ]
  },
  {
   "cell_type": "code",
   "execution_count": 515,
   "metadata": {},
   "outputs": [],
   "source": [
    "import numpy as np\n",
    "\n",
    "def cross_entropy_catg(df, column, value, included=True):\n",
    "    \"\"\"\n",
    "    this function calculate the cross entropy when you split on `value` of column\n",
    "\n",
    "    :param df: dataframe\n",
    "    :param column: column on which you are splitting\n",
    "    :param value: value for split happen\n",
    "    \"\"\"\n",
    "    if included:\n",
    "        post_cnt = len(df[(df[column] == value) & (df['Target'] == 1)])\n",
    "        negt_cnt = len(df[(df[column] == value) & (df['Target'] == 0)])\n",
    "    else:\n",
    "        post_cnt = len(df[df['Target'] == 1]) - len(df[(df[column] == value) & (df['Target'] == 1)])\n",
    "        negt_cnt = len(df[df['Target'] == 0]) - len(df[(df[column] == value) & (df['Target'] == 0)])\n",
    "    \n",
    "    total = post_cnt + negt_cnt\n",
    "\n",
    "    if total == 0:\n",
    "        return 0\n",
    "\n",
    "    entropy = 0\n",
    "    if post_cnt > 0:\n",
    "        entropy -= (post_cnt / total) * np.log2(post_cnt / total)\n",
    "    if negt_cnt > 0:\n",
    "        entropy -= (negt_cnt / total) * np.log2(negt_cnt / total)\n",
    "\n",
    "    return entropy"
   ]
  },
  {
   "cell_type": "code",
   "execution_count": 516,
   "metadata": {},
   "outputs": [],
   "source": [
    "import numpy as np\n",
    "\n",
    "def cross_entropy_num(df, column, value, included=True):\n",
    "    if included:\n",
    "        subset = df[df[column] < value]\n",
    "    else:\n",
    "        subset = df[df[column] >= value]\n",
    "\n",
    "    post_cnt = len(subset[subset['Target'] == 1])\n",
    "    negt_cnt = len(subset[subset['Target'] == 0])\n",
    "    total = post_cnt + negt_cnt\n",
    "\n",
    "    if total == 0:\n",
    "        return 0  # no samples to evaluate\n",
    "\n",
    "    entropy = 0\n",
    "    if post_cnt > 0:\n",
    "        entropy -= (post_cnt / total) * np.log2(post_cnt / total)\n",
    "    if negt_cnt > 0:\n",
    "        entropy -= (negt_cnt / total) * np.log2(negt_cnt / total)\n",
    "\n",
    "    return entropy\n"
   ]
  },
  {
   "cell_type": "code",
   "execution_count": 517,
   "metadata": {},
   "outputs": [
    {
     "data": {
      "text/plain": [
       "0"
      ]
     },
     "execution_count": 517,
     "metadata": {},
     "output_type": "execute_result"
    }
   ],
   "source": [
    "cross_entropy_catg(df, 'color', 'Red', True)"
   ]
  },
  {
   "cell_type": "code",
   "execution_count": 518,
   "metadata": {},
   "outputs": [
    {
     "data": {
      "text/plain": [
       "np.float64(0.9182958340544896)"
      ]
     },
     "execution_count": 518,
     "metadata": {},
     "output_type": "execute_result"
    }
   ],
   "source": [
    "cross_entropy_num(df, 'size', 20, True)"
   ]
  },
  {
   "cell_type": "code",
   "execution_count": 519,
   "metadata": {},
   "outputs": [],
   "source": [
    "def cross_entropy_parent(df):\n",
    "\n",
    "    post_cnt = len(df[df['Target'] == 1])\n",
    "    negt_cnt = len(df[df['Target'] == 0])\n",
    "    total = post_cnt + negt_cnt\n",
    "\n",
    "    if total == 0:\n",
    "        return 0  # no samples to evaluate\n",
    "\n",
    "    entropy = 0\n",
    "    if post_cnt > 0:\n",
    "        entropy -= (post_cnt / total) * np.log2(post_cnt / total)\n",
    "    if negt_cnt > 0:\n",
    "        entropy -= (negt_cnt / total) * np.log2(negt_cnt / total)\n",
    "\n",
    "    return  entropy\n"
   ]
  },
  {
   "cell_type": "code",
   "execution_count": 520,
   "metadata": {},
   "outputs": [],
   "source": [
    "def calculate_information_gain(df, column, criteria):\n",
    "    parent_entropy = cross_entropy_parent(df)\n",
    "    if type(df[column].iloc[0]) == str:\n",
    "        include_node = cross_entropy_catg(df, column, criteria, True)\n",
    "        except_node = cross_entropy_catg(df, column, criteria, False)\n",
    "        return parent_entropy - (include_node + except_node)\n",
    "    else:\n",
    "        lesser_side = cross_entropy_num(df, column, criteria, True)\n",
    "        greater_side = cross_entropy_num(df, column, criteria, False)\n",
    "        return parent_entropy - (lesser_side + greater_side)\n",
    "    "
   ]
  },
  {
   "cell_type": "code",
   "execution_count": 521,
   "metadata": {},
   "outputs": [],
   "source": [
    "def best_threshold_to_split(df, column):\n",
    "    if type(df[column].iloc[0]) == str:\n",
    "        split_node = list(df[column].unique())\n",
    "    else:\n",
    "        sorted_attr = sorted(df[column])\n",
    "        split_node = []\n",
    "        for i in range(len(df)-1):\n",
    "            split_node.append((sorted_attr[i] + sorted_attr[i+1])/2)\n",
    "    # print(split_node)\n",
    "\n",
    "    # if there is only one unique value in the df[column] return that this is not the best way to split\n",
    "    if len(df[column].unique()) == 1:\n",
    "        return -5500, df[column].iloc[0], column\n",
    "\n",
    "    information_gain = []\n",
    "\n",
    "    for criteria in split_node:\n",
    "        \"make a subset of the dataframe for particular criteria of the column\"\n",
    "        curr_ig = calculate_information_gain(df, column, criteria)\n",
    "        information_gain.append(curr_ig)\n",
    "\n",
    "    splitting_criteria_index = np.argmax(np.array(information_gain))\n",
    "\n",
    "    print(information_gain[splitting_criteria_index])\n",
    "    return information_gain[splitting_criteria_index], split_node[splitting_criteria_index], column\n"
   ]
  },
  {
   "cell_type": "code",
   "execution_count": 522,
   "metadata": {},
   "outputs": [
    {
     "data": {
      "text/plain": [
       "Index(['size', 'color', 'Target'], dtype='object')"
      ]
     },
     "execution_count": 522,
     "metadata": {},
     "output_type": "execute_result"
    }
   ],
   "source": [
    "columns = df.columns\n",
    "columns"
   ]
  },
  {
   "cell_type": "code",
   "execution_count": 523,
   "metadata": {},
   "outputs": [
    {
     "name": "stdout",
     "output_type": "stream",
     "text": [
      "0.07573437742246691\n",
      "(np.float64(0.07573437742246691), 16.5, 'size')\n",
      "0.07573437742246691\n",
      "(np.float64(0.07573437742246691), 1.5, 'color')\n"
     ]
    }
   ],
   "source": [
    "for column in columns[:-1]:\n",
    "    print(best_threshold_to_split(df, column))"
   ]
  },
  {
   "cell_type": "code",
   "execution_count": 524,
   "metadata": {},
   "outputs": [
    {
     "name": "stdout",
     "output_type": "stream",
     "text": [
      "0.07573437742246691\n",
      "0.07573437742246691\n",
      "16.5 size\n",
      "    size  color  Target\n",
      "0     10      0       0\n",
      "1     15      0       0\n",
      "2     18      1       1\n",
      "3     25      1       1\n",
      "4     30      0       0\n",
      "5     32      1       1\n",
      "6     35      0       1\n",
      "7     40      1       1\n",
      "8     22      2       0\n",
      "9     35      2       0\n",
      "10    23      0       1\n",
      "-0.036138168870475496\n",
      "0.3266230554721621\n",
      "1.5 color\n",
      "    size  color  Target\n",
      "2     18      1       1\n",
      "3     25      1       1\n",
      "4     30      0       0\n",
      "5     32      1       1\n",
      "6     35      0       1\n",
      "7     40      1       1\n",
      "8     22      2       0\n",
      "9     35      2       0\n",
      "10    23      0       1\n",
      "Calling left Part\n",
      "-0.058349643066026635\n",
      "0.0\n"
     ]
    }
   ],
   "source": [
    "zero_entropy_subset = []\n",
    "splits_done = []\n",
    "\n",
    "def solve(df):\n",
    "    best_split = []\n",
    "    # print(f\"reached here.....0\")\n",
    "    for column in df.columns[:-1]:\n",
    "        # print(f\"Calling for column: {column}\")\n",
    "        best_split.append(best_threshold_to_split(df, column))\n",
    "    \n",
    "    # print(f\"reached here.....1\")\n",
    "\n",
    "    best_split = sorted(best_split, key= lambda x : x[0], reverse=True)\n",
    "    # print(f\"reached here.....2\")\n",
    "\n",
    "    ig_value_at_split, value_at_split, column_at_split = best_split[0][0], best_split[0][1], best_split[0][2]\n",
    "\n",
    "    if ig_value_at_split ==0 :\n",
    "        return\n",
    "\n",
    "\n",
    "    splits_done.append((value_at_split, column_at_split))\n",
    "    \n",
    "    print(value_at_split, column_at_split)\n",
    "    print(df)\n",
    "\n",
    "    if isinstance(value_at_split, str):\n",
    "        df_left = df[df[column_at_split]==value_at_split]\n",
    "        df_right = df[df[column_at_split]!=value_at_split]\n",
    "    else:\n",
    "        df_left = df[df[column_at_split]<value_at_split]\n",
    "        df_right = df[df[column_at_split]>=value_at_split]\n",
    "\n",
    "    if cross_entropy_parent(df_left) < 0.1:\n",
    "        zero_entropy_subset.append(df_left)\n",
    "    else:\n",
    "        print(f\"Calling left Part\")\n",
    "        solve(df_left)\n",
    "    if cross_entropy_parent(df_right) < 0.1:\n",
    "        zero_entropy_subset.append(df_right)\n",
    "    else:\n",
    "        # print(f\"Calling right Part\")\n",
    "        # print(\"-----\")\n",
    "        # print(df_right)\n",
    "        # print(\"-----\")\n",
    "        solve(df_right)\n",
    "\n",
    "solve(df)"
   ]
  },
  {
   "cell_type": "code",
   "execution_count": 525,
   "metadata": {},
   "outputs": [
    {
     "data": {
      "text/plain": [
       "2"
      ]
     },
     "execution_count": 525,
     "metadata": {},
     "output_type": "execute_result"
    }
   ],
   "source": [
    "len(zero_entropy_subset)"
   ]
  },
  {
   "cell_type": "code",
   "execution_count": 526,
   "metadata": {},
   "outputs": [
    {
     "name": "stdout",
     "output_type": "stream",
     "text": [
      "----------------\n",
      "   size  color  Target\n",
      "0    10      0       0\n",
      "1    15      0       0\n",
      "----------------\n",
      "----------------\n",
      "   size  color  Target\n",
      "8    22      2       0\n",
      "9    35      2       0\n",
      "----------------\n"
     ]
    }
   ],
   "source": [
    "for df in zero_entropy_subset:\n",
    "    print(\"----------------\")\n",
    "    print(df)\n",
    "    print(\"----------------\")"
   ]
  },
  {
   "cell_type": "code",
   "execution_count": 527,
   "metadata": {},
   "outputs": [
    {
     "data": {
      "text/html": [
       "<div>\n",
       "<style scoped>\n",
       "    .dataframe tbody tr th:only-of-type {\n",
       "        vertical-align: middle;\n",
       "    }\n",
       "\n",
       "    .dataframe tbody tr th {\n",
       "        vertical-align: top;\n",
       "    }\n",
       "\n",
       "    .dataframe thead th {\n",
       "        text-align: right;\n",
       "    }\n",
       "</style>\n",
       "<table border=\"1\" class=\"dataframe\">\n",
       "  <thead>\n",
       "    <tr style=\"text-align: right;\">\n",
       "      <th></th>\n",
       "      <th>size</th>\n",
       "      <th>color</th>\n",
       "      <th>Target</th>\n",
       "    </tr>\n",
       "  </thead>\n",
       "  <tbody>\n",
       "    <tr>\n",
       "      <th>8</th>\n",
       "      <td>22</td>\n",
       "      <td>2</td>\n",
       "      <td>0</td>\n",
       "    </tr>\n",
       "    <tr>\n",
       "      <th>9</th>\n",
       "      <td>35</td>\n",
       "      <td>2</td>\n",
       "      <td>0</td>\n",
       "    </tr>\n",
       "  </tbody>\n",
       "</table>\n",
       "</div>"
      ],
      "text/plain": [
       "   size  color  Target\n",
       "8    22      2       0\n",
       "9    35      2       0"
      ]
     },
     "execution_count": 527,
     "metadata": {},
     "output_type": "execute_result"
    }
   ],
   "source": [
    "df"
   ]
  },
  {
   "cell_type": "code",
   "execution_count": 528,
   "metadata": {},
   "outputs": [
    {
     "data": {
      "image/png": "[encoded data removed]",
      "text/plain": [
       "<Figure size 800x600 with 1 Axes>"
      ]
     },
     "metadata": {},
     "output_type": "display_data"
    }
   ],
   "source": [
    "colors = ['red' if t == 0 else 'blue' for t in df['Target']]\n",
    "plt.figure(figsize=(8, 6))\n",
    "plt.scatter(df['size'], df['color'], c=colors, s=30, alpha=0.7)\n",
    "\n",
    "# Draw each split\n",
    "for val, col in splits_done:\n",
    "    if col == 'size':\n",
    "        plt.axvline(x=val, color='green', linestyle='--')\n",
    "    elif col == 'color':\n",
    "        plt.axhline(y=val, color='purple', linestyle='--')\n",
    "\n",
    "plt.title(\"Decision Tree Splits Visualization\")\n",
    "plt.xlabel(\"color\")\n",
    "plt.ylabel(\"size\")\n",
    "plt.grid(True)\n",
    "plt.show()\n"
   ]
  },
  {
   "cell_type": "code",
   "execution_count": null,
   "metadata": {},
   "outputs": [],
   "source": []
  }
 ],
 "metadata": {
  "kernelspec": {
   "display_name": "sam_finetune",
   "language": "python",
   "name": "python3"
  },
  "language_info": {
   "codemirror_mode": {
    "name": "ipython",
    "version": 3
   },
   "file_extension": ".py",
   "mimetype": "text/x-python",
   "name": "python",
   "nbconvert_exporter": "python",
   "pygments_lexer": "ipython3",
   "version": "3.13.2"
  }
 },
 "nbformat": 4,
 "nbformat_minor": 2
}
